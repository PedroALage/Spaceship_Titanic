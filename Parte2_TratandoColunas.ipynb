{
 "cells": [
  {
   "cell_type": "markdown",
   "id": "321aee4f",
   "metadata": {},
   "source": [
    "# Spaceship Titanic\n",
    "\n",
    "- Utilizaando os [dados disponíveis no Kaggle](https://www.kaggle.com/competitions/spaceship-titanic)\n",
    "    - Dataset de **competição**\n",
    "    - O resultado é avaliado através da **acurácia**"
   ]
  },
  {
   "cell_type": "markdown",
   "id": "e860c1c7",
   "metadata": {},
   "source": [
    "### Importando novamente as bases e fazendo o tratando dos dados\n",
    "- Importando oque foi feito na [Parte 0 - Tratando os dados](https://github.com/PedroALage/Projetos/blob/main/Data_Science/Spaceship_Titanic/Parte0_TratandoDados.ipynb)"
   ]
  },
  {
   "cell_type": "code",
   "execution_count": 1,
   "id": "d3c866a6",
   "metadata": {},
   "outputs": [],
   "source": [
    "# Importando o pandas\n",
    "import pandas as pd"
   ]
  },
  {
   "cell_type": "code",
   "execution_count": 2,
   "id": "0c7a7e15",
   "metadata": {},
   "outputs": [
    {
     "data": {
      "text/html": [
       "<div>\n",
       "<style scoped>\n",
       "    .dataframe tbody tr th:only-of-type {\n",
       "        vertical-align: middle;\n",
       "    }\n",
       "\n",
       "    .dataframe tbody tr th {\n",
       "        vertical-align: top;\n",
       "    }\n",
       "\n",
       "    .dataframe thead th {\n",
       "        text-align: right;\n",
       "    }\n",
       "</style>\n",
       "<table border=\"1\" class=\"dataframe\">\n",
       "  <thead>\n",
       "    <tr style=\"text-align: right;\">\n",
       "      <th></th>\n",
       "      <th>PassengerId</th>\n",
       "      <th>HomePlanet</th>\n",
       "      <th>CryoSleep</th>\n",
       "      <th>Destination</th>\n",
       "      <th>Age</th>\n",
       "      <th>VIP</th>\n",
       "      <th>RoomService</th>\n",
       "      <th>FoodCourt</th>\n",
       "      <th>ShoppingMall</th>\n",
       "      <th>Spa</th>\n",
       "      <th>VRDeck</th>\n",
       "      <th>Transported</th>\n",
       "    </tr>\n",
       "  </thead>\n",
       "  <tbody>\n",
       "    <tr>\n",
       "      <th>0</th>\n",
       "      <td>0001_01</td>\n",
       "      <td>Europa</td>\n",
       "      <td>False</td>\n",
       "      <td>TRAPPIST-1e</td>\n",
       "      <td>39.0</td>\n",
       "      <td>False</td>\n",
       "      <td>0.0</td>\n",
       "      <td>0.0</td>\n",
       "      <td>0.0</td>\n",
       "      <td>0.0</td>\n",
       "      <td>0.0</td>\n",
       "      <td>False</td>\n",
       "    </tr>\n",
       "    <tr>\n",
       "      <th>1</th>\n",
       "      <td>0002_01</td>\n",
       "      <td>Earth</td>\n",
       "      <td>False</td>\n",
       "      <td>TRAPPIST-1e</td>\n",
       "      <td>24.0</td>\n",
       "      <td>False</td>\n",
       "      <td>109.0</td>\n",
       "      <td>9.0</td>\n",
       "      <td>25.0</td>\n",
       "      <td>549.0</td>\n",
       "      <td>44.0</td>\n",
       "      <td>True</td>\n",
       "    </tr>\n",
       "    <tr>\n",
       "      <th>2</th>\n",
       "      <td>0003_01</td>\n",
       "      <td>Europa</td>\n",
       "      <td>False</td>\n",
       "      <td>TRAPPIST-1e</td>\n",
       "      <td>58.0</td>\n",
       "      <td>True</td>\n",
       "      <td>43.0</td>\n",
       "      <td>3576.0</td>\n",
       "      <td>0.0</td>\n",
       "      <td>6715.0</td>\n",
       "      <td>49.0</td>\n",
       "      <td>False</td>\n",
       "    </tr>\n",
       "  </tbody>\n",
       "</table>\n",
       "</div>"
      ],
      "text/plain": [
       "  PassengerId HomePlanet  CryoSleep  Destination   Age    VIP  RoomService  \\\n",
       "0     0001_01     Europa      False  TRAPPIST-1e  39.0  False          0.0   \n",
       "1     0002_01      Earth      False  TRAPPIST-1e  24.0  False        109.0   \n",
       "2     0003_01     Europa      False  TRAPPIST-1e  58.0   True         43.0   \n",
       "\n",
       "   FoodCourt  ShoppingMall     Spa  VRDeck  Transported  \n",
       "0        0.0           0.0     0.0     0.0        False  \n",
       "1        9.0          25.0   549.0    44.0         True  \n",
       "2     3576.0           0.0  6715.0    49.0        False  "
      ]
     },
     "execution_count": 2,
     "metadata": {},
     "output_type": "execute_result"
    }
   ],
   "source": [
    "# Visualizando a base de treino\n",
    "treino = pd.read_csv('treino_trat1.csv')\n",
    "treino.head(3)"
   ]
  },
  {
   "cell_type": "code",
   "execution_count": 3,
   "id": "a8bf6800",
   "metadata": {},
   "outputs": [
    {
     "data": {
      "text/html": [
       "<div>\n",
       "<style scoped>\n",
       "    .dataframe tbody tr th:only-of-type {\n",
       "        vertical-align: middle;\n",
       "    }\n",
       "\n",
       "    .dataframe tbody tr th {\n",
       "        vertical-align: top;\n",
       "    }\n",
       "\n",
       "    .dataframe thead th {\n",
       "        text-align: right;\n",
       "    }\n",
       "</style>\n",
       "<table border=\"1\" class=\"dataframe\">\n",
       "  <thead>\n",
       "    <tr style=\"text-align: right;\">\n",
       "      <th></th>\n",
       "      <th>PassengerId</th>\n",
       "      <th>HomePlanet</th>\n",
       "      <th>CryoSleep</th>\n",
       "      <th>Destination</th>\n",
       "      <th>Age</th>\n",
       "      <th>VIP</th>\n",
       "      <th>RoomService</th>\n",
       "      <th>FoodCourt</th>\n",
       "      <th>ShoppingMall</th>\n",
       "      <th>Spa</th>\n",
       "      <th>VRDeck</th>\n",
       "    </tr>\n",
       "  </thead>\n",
       "  <tbody>\n",
       "    <tr>\n",
       "      <th>0</th>\n",
       "      <td>0013_01</td>\n",
       "      <td>Earth</td>\n",
       "      <td>True</td>\n",
       "      <td>TRAPPIST-1e</td>\n",
       "      <td>27.0</td>\n",
       "      <td>False</td>\n",
       "      <td>0.0</td>\n",
       "      <td>0.0</td>\n",
       "      <td>0.0</td>\n",
       "      <td>0.0</td>\n",
       "      <td>0.0</td>\n",
       "    </tr>\n",
       "    <tr>\n",
       "      <th>1</th>\n",
       "      <td>0018_01</td>\n",
       "      <td>Earth</td>\n",
       "      <td>False</td>\n",
       "      <td>TRAPPIST-1e</td>\n",
       "      <td>19.0</td>\n",
       "      <td>False</td>\n",
       "      <td>0.0</td>\n",
       "      <td>9.0</td>\n",
       "      <td>0.0</td>\n",
       "      <td>2823.0</td>\n",
       "      <td>0.0</td>\n",
       "    </tr>\n",
       "    <tr>\n",
       "      <th>2</th>\n",
       "      <td>0019_01</td>\n",
       "      <td>Europa</td>\n",
       "      <td>True</td>\n",
       "      <td>55 Cancri e</td>\n",
       "      <td>31.0</td>\n",
       "      <td>False</td>\n",
       "      <td>0.0</td>\n",
       "      <td>0.0</td>\n",
       "      <td>0.0</td>\n",
       "      <td>0.0</td>\n",
       "      <td>0.0</td>\n",
       "    </tr>\n",
       "  </tbody>\n",
       "</table>\n",
       "</div>"
      ],
      "text/plain": [
       "  PassengerId HomePlanet  CryoSleep  Destination   Age    VIP  RoomService  \\\n",
       "0     0013_01      Earth       True  TRAPPIST-1e  27.0  False          0.0   \n",
       "1     0018_01      Earth      False  TRAPPIST-1e  19.0  False          0.0   \n",
       "2     0019_01     Europa       True  55 Cancri e  31.0  False          0.0   \n",
       "\n",
       "   FoodCourt  ShoppingMall     Spa  VRDeck  \n",
       "0        0.0           0.0     0.0     0.0  \n",
       "1        9.0           0.0  2823.0     0.0  \n",
       "2        0.0           0.0     0.0     0.0  "
      ]
     },
     "execution_count": 3,
     "metadata": {},
     "output_type": "execute_result"
    }
   ],
   "source": [
    "# Visualizando a base de teste\n",
    "teste = pd.read_csv('teste_trat1.csv')\n",
    "teste.head(3)"
   ]
  },
  {
   "cell_type": "code",
   "execution_count": 4,
   "id": "a68930cf",
   "metadata": {},
   "outputs": [
    {
     "data": {
      "text/plain": [
       "PassengerId      object\n",
       "HomePlanet       object\n",
       "CryoSleep          bool\n",
       "Destination      object\n",
       "Age             float64\n",
       "VIP                bool\n",
       "RoomService     float64\n",
       "FoodCourt       float64\n",
       "ShoppingMall    float64\n",
       "Spa             float64\n",
       "VRDeck          float64\n",
       "Transported        bool\n",
       "dtype: object"
      ]
     },
     "execution_count": 4,
     "metadata": {},
     "output_type": "execute_result"
    }
   ],
   "source": [
    "treino.dtypes"
   ]
  },
  {
   "cell_type": "markdown",
   "id": "1108424c",
   "metadata": {},
   "source": [
    "### Entendendo as colunas booleans\n",
    "- Adicionando um novo tratamento das colunas do tipo bool\n",
    "- Não será necessario tratar o Transported por se tratar do resultado"
   ]
  },
  {
   "cell_type": "code",
   "execution_count": 5,
   "id": "3f1623b3",
   "metadata": {},
   "outputs": [
    {
     "data": {
      "text/plain": [
       "Index(['CryoSleep', 'VIP', 'Transported'], dtype='object')"
      ]
     },
     "execution_count": 5,
     "metadata": {},
     "output_type": "execute_result"
    }
   ],
   "source": [
    "# Verificando as colunas de bool na base de treino\n",
    "treino.columns[treino.dtypes == 'bool']"
   ]
  },
  {
   "cell_type": "code",
   "execution_count": 6,
   "id": "52caeee6",
   "metadata": {},
   "outputs": [
    {
     "data": {
      "text/plain": [
       "CryoSleep\n",
       "False    5558\n",
       "True     3135\n",
       "Name: count, dtype: int64"
      ]
     },
     "execution_count": 6,
     "metadata": {},
     "output_type": "execute_result"
    }
   ],
   "source": [
    "# Verificando os valores na coluna CryoSleep\n",
    "treino.CryoSleep.value_counts()"
   ]
  },
  {
   "cell_type": "code",
   "execution_count": 7,
   "id": "badcd622",
   "metadata": {},
   "outputs": [
    {
     "data": {
      "text/plain": [
       "VIP\n",
       "False    8494\n",
       "True      199\n",
       "Name: count, dtype: int64"
      ]
     },
     "execution_count": 7,
     "metadata": {},
     "output_type": "execute_result"
    }
   ],
   "source": [
    "# Verificando os valores na coluna VIP\n",
    "treino.VIP.value_counts()"
   ]
  },
  {
   "cell_type": "markdown",
   "id": "130aad46",
   "metadata": {},
   "source": [
    "- Para tratar as colunas, podemos utilizar astype(int) para criar uma nova coluna que **vai receber 1 se o campo for True e 0 se for False**"
   ]
  },
  {
   "cell_type": "markdown",
   "id": "0a83892d",
   "metadata": {},
   "source": [
    "#### VIP"
   ]
  },
  {
   "cell_type": "code",
   "execution_count": 8,
   "id": "e6eccde5",
   "metadata": {},
   "outputs": [],
   "source": [
    "# Usando o astype(int) para fazer esse tratamento\n",
    "treino['VIPCheck'] = treino['VIP'].astype(int)"
   ]
  },
  {
   "cell_type": "code",
   "execution_count": 9,
   "id": "7a6347db",
   "metadata": {},
   "outputs": [
    {
     "data": {
      "text/plain": [
       "VIP    VIPCheck\n",
       "False  0           8494\n",
       "True   1            199\n",
       "Name: count, dtype: int64"
      ]
     },
     "execution_count": 9,
     "metadata": {},
     "output_type": "execute_result"
    }
   ],
   "source": [
    "# Verificando os valores\n",
    "treino[['VIP', 'VIPCheck']].value_counts()"
   ]
  },
  {
   "cell_type": "markdown",
   "id": "02f94a59",
   "metadata": {},
   "source": [
    "- Fazendo o mesmo para a base de teste"
   ]
  },
  {
   "cell_type": "code",
   "execution_count": 10,
   "id": "048ef6a1",
   "metadata": {},
   "outputs": [],
   "source": [
    "# Usando o astype(int) para fazer esse tratamento\n",
    "teste['VIPCheck'] = teste['VIP'].astype(int)"
   ]
  },
  {
   "cell_type": "code",
   "execution_count": 11,
   "id": "e4b6c724",
   "metadata": {},
   "outputs": [
    {
     "data": {
      "text/plain": [
       "VIP    VIPCheck\n",
       "False  0           4203\n",
       "True   1             74\n",
       "Name: count, dtype: int64"
      ]
     },
     "execution_count": 11,
     "metadata": {},
     "output_type": "execute_result"
    }
   ],
   "source": [
    "# Verificando os valores\n",
    "teste[['VIP', 'VIPCheck']].value_counts()"
   ]
  },
  {
   "cell_type": "markdown",
   "id": "96bbf9cf",
   "metadata": {},
   "source": [
    "#### CryoSleep"
   ]
  },
  {
   "cell_type": "code",
   "execution_count": 12,
   "id": "51715be8",
   "metadata": {},
   "outputs": [],
   "source": [
    "# Usando o astype(int) para fazer esse tratamento\n",
    "treino['CryoSCheck'] = treino['CryoSleep'].astype(int)"
   ]
  },
  {
   "cell_type": "code",
   "execution_count": 13,
   "id": "bf981345",
   "metadata": {},
   "outputs": [
    {
     "data": {
      "text/plain": [
       "CryoSleep  CryoSCheck\n",
       "False      0             5558\n",
       "True       1             3135\n",
       "Name: count, dtype: int64"
      ]
     },
     "execution_count": 13,
     "metadata": {},
     "output_type": "execute_result"
    }
   ],
   "source": [
    "# Verificando os valores\n",
    "treino[['CryoSleep', 'CryoSCheck']].value_counts()"
   ]
  },
  {
   "cell_type": "markdown",
   "id": "2dff5a5f",
   "metadata": {},
   "source": [
    "- Fazendo o mesmo para a base de teste"
   ]
  },
  {
   "cell_type": "code",
   "execution_count": 14,
   "id": "f9b857f0",
   "metadata": {},
   "outputs": [],
   "source": [
    "# Usando o astype(int) para fazer esse tratamento\n",
    "teste['CryoSCheck'] = teste['CryoSleep'].astype(int)"
   ]
  },
  {
   "cell_type": "code",
   "execution_count": 15,
   "id": "355132de",
   "metadata": {},
   "outputs": [
    {
     "data": {
      "text/plain": [
       "CryoSleep  CryoSCheck\n",
       "False      0             2695\n",
       "True       1             1582\n",
       "Name: count, dtype: int64"
      ]
     },
     "execution_count": 15,
     "metadata": {},
     "output_type": "execute_result"
    }
   ],
   "source": [
    "# Verificando os valores\n",
    "teste[['CryoSleep', 'CryoSCheck']].value_counts()"
   ]
  },
  {
   "cell_type": "markdown",
   "id": "d48849a0",
   "metadata": {},
   "source": [
    "### Entendendo as colunas de texto\n",
    "- Adicionando um novo tratamento das colunas de texto"
   ]
  },
  {
   "cell_type": "code",
   "execution_count": 16,
   "id": "7a6b5bed",
   "metadata": {},
   "outputs": [
    {
     "data": {
      "text/plain": [
       "Index(['PassengerId', 'HomePlanet', 'Destination'], dtype='object')"
      ]
     },
     "execution_count": 16,
     "metadata": {},
     "output_type": "execute_result"
    }
   ],
   "source": [
    "# Verificando as colunas de texto na base de treino\n",
    "treino.columns[treino.dtypes == 'object']"
   ]
  },
  {
   "cell_type": "code",
   "execution_count": 17,
   "id": "f92bccdb",
   "metadata": {},
   "outputs": [
    {
     "data": {
      "text/plain": [
       "HomePlanet\n",
       "Earth     4803\n",
       "Europa    2131\n",
       "Mars      1759\n",
       "Name: count, dtype: int64"
      ]
     },
     "execution_count": 17,
     "metadata": {},
     "output_type": "execute_result"
    }
   ],
   "source": [
    "# Verificando os valores na coluna HomePlanet\n",
    "treino.HomePlanet.value_counts()"
   ]
  },
  {
   "cell_type": "code",
   "execution_count": 18,
   "id": "1c35b70e",
   "metadata": {},
   "outputs": [
    {
     "data": {
      "text/plain": [
       "Destination\n",
       "TRAPPIST-1e      6097\n",
       "55 Cancri e      1800\n",
       "PSO J318.5-22     796\n",
       "Name: count, dtype: int64"
      ]
     },
     "execution_count": 18,
     "metadata": {},
     "output_type": "execute_result"
    }
   ],
   "source": [
    "# Verificando os valores na coluna Destination\n",
    "treino.Destination.value_counts()"
   ]
  },
  {
   "cell_type": "markdown",
   "id": "4f6a080a",
   "metadata": {},
   "source": [
    "- Para tratar as colunas será utilizado o **[OneHotEncoder](https://scikit-learn.org/stable/modules/generated/sklearn.preprocessing.OneHotEncoder.html)** que irá criar uma nova coluna para cada um dos rótulos da coluna original."
   ]
  },
  {
   "cell_type": "code",
   "execution_count": 19,
   "id": "8b9ce911",
   "metadata": {},
   "outputs": [],
   "source": [
    "# Importando o OneHotEncoder\n",
    "from sklearn.preprocessing import OneHotEncoder"
   ]
  },
  {
   "cell_type": "code",
   "execution_count": 20,
   "id": "c7948f5f",
   "metadata": {},
   "outputs": [],
   "source": [
    "# Criando o encoder\n",
    "ohe = OneHotEncoder(handle_unknown='ignore', dtype='int32')"
   ]
  },
  {
   "cell_type": "markdown",
   "id": "b94c9f41",
   "metadata": {},
   "source": [
    "#### HomePlanet"
   ]
  },
  {
   "cell_type": "code",
   "execution_count": 21,
   "id": "39cfa842",
   "metadata": {},
   "outputs": [],
   "source": [
    "# Fazendo o fit com os dados\n",
    "ohe_HP = ohe.fit(treino[['HomePlanet']])"
   ]
  },
  {
   "cell_type": "code",
   "execution_count": 22,
   "id": "3f7d2a74",
   "metadata": {},
   "outputs": [],
   "source": [
    "# Fazendo a transformação\n",
    "ohe_HP_array = ohe_HP.transform(treino[['HomePlanet']]).toarray()"
   ]
  },
  {
   "cell_type": "code",
   "execution_count": 23,
   "id": "413d1add",
   "metadata": {},
   "outputs": [
    {
     "data": {
      "text/html": [
       "<div>\n",
       "<style scoped>\n",
       "    .dataframe tbody tr th:only-of-type {\n",
       "        vertical-align: middle;\n",
       "    }\n",
       "\n",
       "    .dataframe tbody tr th {\n",
       "        vertical-align: top;\n",
       "    }\n",
       "\n",
       "    .dataframe thead th {\n",
       "        text-align: right;\n",
       "    }\n",
       "</style>\n",
       "<table border=\"1\" class=\"dataframe\">\n",
       "  <thead>\n",
       "    <tr style=\"text-align: right;\">\n",
       "      <th></th>\n",
       "      <th>HomePlanet_Earth</th>\n",
       "      <th>HomePlanet_Europa</th>\n",
       "      <th>HomePlanet_Mars</th>\n",
       "    </tr>\n",
       "  </thead>\n",
       "  <tbody>\n",
       "    <tr>\n",
       "      <th>0</th>\n",
       "      <td>0</td>\n",
       "      <td>1</td>\n",
       "      <td>0</td>\n",
       "    </tr>\n",
       "    <tr>\n",
       "      <th>1</th>\n",
       "      <td>1</td>\n",
       "      <td>0</td>\n",
       "      <td>0</td>\n",
       "    </tr>\n",
       "    <tr>\n",
       "      <th>2</th>\n",
       "      <td>0</td>\n",
       "      <td>1</td>\n",
       "      <td>0</td>\n",
       "    </tr>\n",
       "  </tbody>\n",
       "</table>\n",
       "</div>"
      ],
      "text/plain": [
       "   HomePlanet_Earth  HomePlanet_Europa  HomePlanet_Mars\n",
       "0                 0                  1                0\n",
       "1                 1                  0                0\n",
       "2                 0                  1                0"
      ]
     },
     "execution_count": 23,
     "metadata": {},
     "output_type": "execute_result"
    }
   ],
   "source": [
    "# Transformando esse resultado em um DataFrame\n",
    "ohe_HP_df = pd.DataFrame(ohe_HP_array, columns=ohe_HP.get_feature_names_out())\n",
    "ohe_HP_df.head(3)"
   ]
  },
  {
   "cell_type": "code",
   "execution_count": 24,
   "id": "766de833",
   "metadata": {},
   "outputs": [],
   "source": [
    "# Podemos agora adicionar essa coluna na nossa base de treino\n",
    "treino = pd.concat([treino, ohe_HP_df], axis=1)"
   ]
  },
  {
   "cell_type": "code",
   "execution_count": 25,
   "id": "c04b67b7",
   "metadata": {},
   "outputs": [
    {
     "data": {
      "text/plain": [
       "HomePlanet  HomePlanet_Earth  HomePlanet_Europa  HomePlanet_Mars\n",
       "Earth       1                 0                  0                  4803\n",
       "Europa      0                 1                  0                  2131\n",
       "Mars        0                 0                  1                  1759\n",
       "Name: count, dtype: int64"
      ]
     },
     "execution_count": 25,
     "metadata": {},
     "output_type": "execute_result"
    }
   ],
   "source": [
    "# Verificando os valores\n",
    "treino[['HomePlanet','HomePlanet_Earth','HomePlanet_Europa','HomePlanet_Mars']].value_counts()"
   ]
  },
  {
   "cell_type": "markdown",
   "id": "a5f5764c",
   "metadata": {},
   "source": [
    "**HomePlanet** base de teste\n",
    "- Não e necessário fazer o fit novamente"
   ]
  },
  {
   "cell_type": "code",
   "execution_count": 26,
   "id": "9fa70517",
   "metadata": {},
   "outputs": [],
   "source": [
    "# Transformando esse resultado em um DataFrame\n",
    "ohe_HP_array = ohe_HP.transform(teste[['HomePlanet']]).toarray()\n",
    "ohe_HP_df = pd.DataFrame(ohe_HP_array, columns=ohe_HP.get_feature_names_out())"
   ]
  },
  {
   "cell_type": "code",
   "execution_count": 27,
   "id": "664c0ba6",
   "metadata": {},
   "outputs": [],
   "source": [
    "# Adicionando o resultado na base de teste\n",
    "teste = pd.concat([teste, ohe_HP_df], axis=1)"
   ]
  },
  {
   "cell_type": "code",
   "execution_count": 28,
   "id": "1c8f36e0",
   "metadata": {},
   "outputs": [
    {
     "data": {
      "text/plain": [
       "HomePlanet  HomePlanet_Earth  HomePlanet_Europa  HomePlanet_Mars\n",
       "Earth       1                 0                  0                  2350\n",
       "Europa      0                 1                  0                  1002\n",
       "Mars        0                 0                  1                   925\n",
       "Name: count, dtype: int64"
      ]
     },
     "execution_count": 28,
     "metadata": {},
     "output_type": "execute_result"
    }
   ],
   "source": [
    "# Verificando também os valores\n",
    "teste[['HomePlanet','HomePlanet_Earth','HomePlanet_Europa','HomePlanet_Mars']].value_counts()"
   ]
  },
  {
   "cell_type": "markdown",
   "id": "9cd6a3be",
   "metadata": {},
   "source": [
    "#### Destination"
   ]
  },
  {
   "cell_type": "code",
   "execution_count": 29,
   "id": "d866d8bb",
   "metadata": {},
   "outputs": [],
   "source": [
    "# Fazendo o fit com os dados\n",
    "ohe_DT = ohe.fit(treino[['Destination']])"
   ]
  },
  {
   "cell_type": "code",
   "execution_count": 30,
   "id": "54155155",
   "metadata": {},
   "outputs": [],
   "source": [
    "# Fazendo a transformação\n",
    "ohe_DT_array = ohe_DT.transform(treino[['Destination']]).toarray()"
   ]
  },
  {
   "cell_type": "code",
   "execution_count": 31,
   "id": "e3ae2bda",
   "metadata": {},
   "outputs": [
    {
     "data": {
      "text/html": [
       "<div>\n",
       "<style scoped>\n",
       "    .dataframe tbody tr th:only-of-type {\n",
       "        vertical-align: middle;\n",
       "    }\n",
       "\n",
       "    .dataframe tbody tr th {\n",
       "        vertical-align: top;\n",
       "    }\n",
       "\n",
       "    .dataframe thead th {\n",
       "        text-align: right;\n",
       "    }\n",
       "</style>\n",
       "<table border=\"1\" class=\"dataframe\">\n",
       "  <thead>\n",
       "    <tr style=\"text-align: right;\">\n",
       "      <th></th>\n",
       "      <th>Destination_55 Cancri e</th>\n",
       "      <th>Destination_PSO J318.5-22</th>\n",
       "      <th>Destination_TRAPPIST-1e</th>\n",
       "    </tr>\n",
       "  </thead>\n",
       "  <tbody>\n",
       "    <tr>\n",
       "      <th>0</th>\n",
       "      <td>0</td>\n",
       "      <td>0</td>\n",
       "      <td>1</td>\n",
       "    </tr>\n",
       "    <tr>\n",
       "      <th>1</th>\n",
       "      <td>0</td>\n",
       "      <td>0</td>\n",
       "      <td>1</td>\n",
       "    </tr>\n",
       "    <tr>\n",
       "      <th>2</th>\n",
       "      <td>0</td>\n",
       "      <td>0</td>\n",
       "      <td>1</td>\n",
       "    </tr>\n",
       "  </tbody>\n",
       "</table>\n",
       "</div>"
      ],
      "text/plain": [
       "   Destination_55 Cancri e  Destination_PSO J318.5-22  Destination_TRAPPIST-1e\n",
       "0                        0                          0                        1\n",
       "1                        0                          0                        1\n",
       "2                        0                          0                        1"
      ]
     },
     "execution_count": 31,
     "metadata": {},
     "output_type": "execute_result"
    }
   ],
   "source": [
    "# Transformando esse resultado em um DataFrame\n",
    "ohe_DT_df = pd.DataFrame(ohe_DT_array, columns=ohe_DT.get_feature_names_out())\n",
    "ohe_DT_df.head(3)"
   ]
  },
  {
   "cell_type": "code",
   "execution_count": 32,
   "id": "27fb5b9a",
   "metadata": {},
   "outputs": [],
   "source": [
    "# Podemos agora adicionar essa coluna na nossa base de treino\n",
    "treino = pd.concat([treino, ohe_DT_df], axis=1)"
   ]
  },
  {
   "cell_type": "code",
   "execution_count": 33,
   "id": "167459dd",
   "metadata": {},
   "outputs": [
    {
     "data": {
      "text/plain": [
       "Destination    Destination_55 Cancri e  Destination_PSO J318.5-22  Destination_TRAPPIST-1e\n",
       "TRAPPIST-1e    0                        0                          1                          6097\n",
       "55 Cancri e    1                        0                          0                          1800\n",
       "PSO J318.5-22  0                        1                          0                           796\n",
       "Name: count, dtype: int64"
      ]
     },
     "execution_count": 33,
     "metadata": {},
     "output_type": "execute_result"
    }
   ],
   "source": [
    "# Verificando também os valores\n",
    "treino[['Destination','Destination_55 Cancri e','Destination_PSO J318.5-22','Destination_TRAPPIST-1e']].value_counts()"
   ]
  },
  {
   "cell_type": "markdown",
   "id": "2d934506",
   "metadata": {},
   "source": [
    "**Destination** base de teste\n",
    "- Não é necessário fazer o fit novamente"
   ]
  },
  {
   "cell_type": "code",
   "execution_count": 34,
   "id": "12430e83",
   "metadata": {},
   "outputs": [],
   "source": [
    "# Transformando esse resultado em um DataFrame\n",
    "ohe_DT_array = ohe_DT.transform(teste[['Destination']]).toarray()\n",
    "ohe_DT_df = pd.DataFrame(ohe_DT_array, columns=ohe_DT.get_feature_names_out())"
   ]
  },
  {
   "cell_type": "code",
   "execution_count": 35,
   "id": "0efd36ea",
   "metadata": {},
   "outputs": [],
   "source": [
    "# Adicionando o resultado na base de teste\n",
    "teste = pd.concat([teste, ohe_DT_df], axis=1)"
   ]
  },
  {
   "cell_type": "code",
   "execution_count": 36,
   "id": "5a7bbd34",
   "metadata": {},
   "outputs": [
    {
     "data": {
      "text/plain": [
       "Destination    Destination_55 Cancri e  Destination_PSO J318.5-22  Destination_TRAPPIST-1e\n",
       "TRAPPIST-1e    0                        0                          1                          3048\n",
       "55 Cancri e    1                        0                          0                           841\n",
       "PSO J318.5-22  0                        1                          0                           388\n",
       "Name: count, dtype: int64"
      ]
     },
     "execution_count": 36,
     "metadata": {},
     "output_type": "execute_result"
    }
   ],
   "source": [
    "# Verificando também os valores\n",
    "teste[['Destination','Destination_55 Cancri e','Destination_PSO J318.5-22','Destination_TRAPPIST-1e']].value_counts()"
   ]
  },
  {
   "cell_type": "markdown",
   "id": "6795fb4c",
   "metadata": {},
   "source": [
    "### Usando a nova base no modelo"
   ]
  },
  {
   "cell_type": "code",
   "execution_count": 38,
   "id": "51d5ea38",
   "metadata": {},
   "outputs": [
    {
     "data": {
      "text/html": [
       "<div>\n",
       "<style scoped>\n",
       "    .dataframe tbody tr th:only-of-type {\n",
       "        vertical-align: middle;\n",
       "    }\n",
       "\n",
       "    .dataframe tbody tr th {\n",
       "        vertical-align: top;\n",
       "    }\n",
       "\n",
       "    .dataframe thead th {\n",
       "        text-align: right;\n",
       "    }\n",
       "</style>\n",
       "<table border=\"1\" class=\"dataframe\">\n",
       "  <thead>\n",
       "    <tr style=\"text-align: right;\">\n",
       "      <th></th>\n",
       "      <th>PassengerId</th>\n",
       "      <th>HomePlanet</th>\n",
       "      <th>CryoSleep</th>\n",
       "      <th>Destination</th>\n",
       "      <th>Age</th>\n",
       "      <th>VIP</th>\n",
       "      <th>RoomService</th>\n",
       "      <th>FoodCourt</th>\n",
       "      <th>ShoppingMall</th>\n",
       "      <th>Spa</th>\n",
       "      <th>VRDeck</th>\n",
       "      <th>Transported</th>\n",
       "      <th>VIPCheck</th>\n",
       "      <th>CryoSCheck</th>\n",
       "      <th>HomePlanet_Earth</th>\n",
       "      <th>HomePlanet_Europa</th>\n",
       "      <th>HomePlanet_Mars</th>\n",
       "      <th>Destination_55 Cancri e</th>\n",
       "      <th>Destination_PSO J318.5-22</th>\n",
       "      <th>Destination_TRAPPIST-1e</th>\n",
       "    </tr>\n",
       "  </thead>\n",
       "  <tbody>\n",
       "    <tr>\n",
       "      <th>0</th>\n",
       "      <td>0001_01</td>\n",
       "      <td>Europa</td>\n",
       "      <td>False</td>\n",
       "      <td>TRAPPIST-1e</td>\n",
       "      <td>39.0</td>\n",
       "      <td>False</td>\n",
       "      <td>0.0</td>\n",
       "      <td>0.0</td>\n",
       "      <td>0.0</td>\n",
       "      <td>0.0</td>\n",
       "      <td>0.0</td>\n",
       "      <td>False</td>\n",
       "      <td>0</td>\n",
       "      <td>0</td>\n",
       "      <td>0</td>\n",
       "      <td>1</td>\n",
       "      <td>0</td>\n",
       "      <td>0</td>\n",
       "      <td>0</td>\n",
       "      <td>1</td>\n",
       "    </tr>\n",
       "    <tr>\n",
       "      <th>1</th>\n",
       "      <td>0002_01</td>\n",
       "      <td>Earth</td>\n",
       "      <td>False</td>\n",
       "      <td>TRAPPIST-1e</td>\n",
       "      <td>24.0</td>\n",
       "      <td>False</td>\n",
       "      <td>109.0</td>\n",
       "      <td>9.0</td>\n",
       "      <td>25.0</td>\n",
       "      <td>549.0</td>\n",
       "      <td>44.0</td>\n",
       "      <td>True</td>\n",
       "      <td>0</td>\n",
       "      <td>0</td>\n",
       "      <td>1</td>\n",
       "      <td>0</td>\n",
       "      <td>0</td>\n",
       "      <td>0</td>\n",
       "      <td>0</td>\n",
       "      <td>1</td>\n",
       "    </tr>\n",
       "    <tr>\n",
       "      <th>2</th>\n",
       "      <td>0003_01</td>\n",
       "      <td>Europa</td>\n",
       "      <td>False</td>\n",
       "      <td>TRAPPIST-1e</td>\n",
       "      <td>58.0</td>\n",
       "      <td>True</td>\n",
       "      <td>43.0</td>\n",
       "      <td>3576.0</td>\n",
       "      <td>0.0</td>\n",
       "      <td>6715.0</td>\n",
       "      <td>49.0</td>\n",
       "      <td>False</td>\n",
       "      <td>1</td>\n",
       "      <td>0</td>\n",
       "      <td>0</td>\n",
       "      <td>1</td>\n",
       "      <td>0</td>\n",
       "      <td>0</td>\n",
       "      <td>0</td>\n",
       "      <td>1</td>\n",
       "    </tr>\n",
       "  </tbody>\n",
       "</table>\n",
       "</div>"
      ],
      "text/plain": [
       "  PassengerId HomePlanet  CryoSleep  Destination   Age    VIP  RoomService  \\\n",
       "0     0001_01     Europa      False  TRAPPIST-1e  39.0  False          0.0   \n",
       "1     0002_01      Earth      False  TRAPPIST-1e  24.0  False        109.0   \n",
       "2     0003_01     Europa      False  TRAPPIST-1e  58.0   True         43.0   \n",
       "\n",
       "   FoodCourt  ShoppingMall     Spa  VRDeck  Transported  VIPCheck  CryoSCheck  \\\n",
       "0        0.0           0.0     0.0     0.0        False         0           0   \n",
       "1        9.0          25.0   549.0    44.0         True         0           0   \n",
       "2     3576.0           0.0  6715.0    49.0        False         1           0   \n",
       "\n",
       "   HomePlanet_Earth  HomePlanet_Europa  HomePlanet_Mars  \\\n",
       "0                 0                  1                0   \n",
       "1                 1                  0                0   \n",
       "2                 0                  1                0   \n",
       "\n",
       "   Destination_55 Cancri e  Destination_PSO J318.5-22  Destination_TRAPPIST-1e  \n",
       "0                        0                          0                        1  \n",
       "1                        0                          0                        1  \n",
       "2                        0                          0                        1  "
      ]
     },
     "execution_count": 38,
     "metadata": {},
     "output_type": "execute_result"
    }
   ],
   "source": [
    "# Visualizando a base\n",
    "treino.head(3)"
   ]
  },
  {
   "cell_type": "code",
   "execution_count": 39,
   "id": "1ff56674",
   "metadata": {},
   "outputs": [],
   "source": [
    "# Podemos então apagar essas duas colunas que já tratamos\n",
    "treino = treino.drop(['VIP', 'CryoSleep','HomePlanet', 'Destination'], axis=1)\n",
    "teste = teste.drop(['VIP', 'CryoSleep','HomePlanet', 'Destination'], axis=1)"
   ]
  },
  {
   "cell_type": "code",
   "execution_count": 41,
   "id": "aca99fa7",
   "metadata": {},
   "outputs": [],
   "source": [
    "# Exportando para um csv\n",
    "treino.to_csv('treino_trat2.csv', index=False)\n",
    "teste.to_csv('teste_trat2.csv', index=False)"
   ]
  },
  {
   "cell_type": "markdown",
   "id": "7a7c3c7f",
   "metadata": {},
   "source": [
    "### Modelo para classificar os dados\n",
    "- Testar entre:\n",
    "    - **Árvore de classificação**\n",
    "        - https://scikit-learn.org/stable/modules/tree.html#classification\n",
    "    - **Classificação dos vizinhos mais próximos**\n",
    "        - https://scikit-learn.org/stable/modules/generated/sklearn.neighbors.KNeighborsClassifier.html#sklearn.neighbors.KNeighborsClassifier\n",
    "    - **Regressão Logística**\n",
    "        - https://scikit-learn.org/stable/modules/generated/sklearn.linear_model.LogisticRegression.html#sklearn.linear_model.LogisticRegression\n",
    "- Antes de usar os algoritmos, precisamos separar a base de treino em **treino e validação**\n",
    "    - Vamos fazer isso utilizando o **train_test_split**\n",
    "        - https://scikit-learn.org/stable/modules/generated/sklearn.model_selection.train_test_split.html"
   ]
  },
  {
   "cell_type": "code",
   "execution_count": 42,
   "id": "36f0b066",
   "metadata": {},
   "outputs": [],
   "source": [
    "# Importando o train_test_split\n",
    "from sklearn.model_selection import train_test_split"
   ]
  },
  {
   "cell_type": "code",
   "execution_count": 43,
   "id": "9110b1f4",
   "metadata": {},
   "outputs": [],
   "source": [
    "# Separando a base de treino em X e y\n",
    "X = treino.drop(['PassengerId','Transported'],axis=1)\n",
    "y = treino.Transported"
   ]
  },
  {
   "cell_type": "code",
   "execution_count": 44,
   "id": "7540d766",
   "metadata": {},
   "outputs": [],
   "source": [
    "# Separando em treino e validação\n",
    "X_train, X_val, y_train, y_val = train_test_split(X, y, test_size=0.33, random_state=42)"
   ]
  },
  {
   "cell_type": "markdown",
   "id": "6a6433c0",
   "metadata": {},
   "source": [
    "- Para a **árvore de classificação**"
   ]
  },
  {
   "cell_type": "code",
   "execution_count": 45,
   "id": "ca0ea325",
   "metadata": {},
   "outputs": [],
   "source": [
    "# Fazendo a importação\n",
    "from sklearn import tree"
   ]
  },
  {
   "cell_type": "code",
   "execution_count": 46,
   "id": "23f96bbb",
   "metadata": {},
   "outputs": [],
   "source": [
    "# Criando o classificador\n",
    "clf_ac = tree.DecisionTreeClassifier()"
   ]
  },
  {
   "cell_type": "code",
   "execution_count": 47,
   "id": "0be23ba5",
   "metadata": {},
   "outputs": [],
   "source": [
    "# Fazendo o fit com os dados\n",
    "clf_ac = clf_ac.fit(X_train,y_train)"
   ]
  },
  {
   "cell_type": "code",
   "execution_count": 48,
   "id": "620fd26d",
   "metadata": {},
   "outputs": [],
   "source": [
    "# Fazendo a previsão\n",
    "y_pred_ac = clf_ac.predict(X_val)"
   ]
  },
  {
   "cell_type": "markdown",
   "id": "860e0bc0",
   "metadata": {},
   "source": [
    "- Para o **KNeighborsClassifier**"
   ]
  },
  {
   "cell_type": "code",
   "execution_count": 49,
   "id": "4d54247f",
   "metadata": {},
   "outputs": [],
   "source": [
    "# Importando\n",
    "from sklearn.neighbors import KNeighborsClassifier"
   ]
  },
  {
   "cell_type": "code",
   "execution_count": 50,
   "id": "a5b0532d",
   "metadata": {},
   "outputs": [],
   "source": [
    "# Criando o classificador\n",
    "clf_knn = KNeighborsClassifier(n_neighbors=3)"
   ]
  },
  {
   "cell_type": "code",
   "execution_count": 51,
   "id": "f7093f72",
   "metadata": {},
   "outputs": [],
   "source": [
    "# Fazendo o fit com os dados\n",
    "clf_knn = clf_knn.fit(X_train,y_train)"
   ]
  },
  {
   "cell_type": "code",
   "execution_count": 52,
   "id": "0b62e22f",
   "metadata": {},
   "outputs": [],
   "source": [
    "# Fazendo a previsão\n",
    "y_pred_knn = clf_knn.predict(X_val)"
   ]
  },
  {
   "cell_type": "markdown",
   "id": "d7a681fb",
   "metadata": {},
   "source": [
    "- E para a **Regressão Logística**"
   ]
  },
  {
   "cell_type": "code",
   "execution_count": 53,
   "id": "acdb8597",
   "metadata": {},
   "outputs": [],
   "source": [
    "# Importando\n",
    "from sklearn.linear_model import LogisticRegression"
   ]
  },
  {
   "cell_type": "code",
   "execution_count": 54,
   "id": "57a895ac",
   "metadata": {},
   "outputs": [],
   "source": [
    "# Criando o classificador\n",
    "clf_rl = LogisticRegression(max_iter=1000)"
   ]
  },
  {
   "cell_type": "code",
   "execution_count": 55,
   "id": "a86ac3c4",
   "metadata": {},
   "outputs": [],
   "source": [
    "# Fazendo o fit com os dados\n",
    "clf_rl = clf_rl.fit(X_train,y_train)"
   ]
  },
  {
   "cell_type": "code",
   "execution_count": 56,
   "id": "4fd3c698",
   "metadata": {},
   "outputs": [],
   "source": [
    "# Fazendo a previsão\n",
    "y_pred_rl = clf_rl.predict(X_val)"
   ]
  },
  {
   "cell_type": "markdown",
   "id": "d76a8036",
   "metadata": {},
   "source": [
    "- Vamos novamente **avaliar os modelos**\n",
    "    - Acurácia (método de avaliação usado na competição):\n",
    "        - https://scikit-learn.org/stable/modules/generated/sklearn.metrics.accuracy_score.html\n",
    "    - Matriz de confusão (ajuda a visualizar a distribuição dos erros):\n",
    "        - https://scikit-learn.org/stable/modules/generated/sklearn.metrics.confusion_matrix.html"
   ]
  },
  {
   "cell_type": "markdown",
   "id": "bf694913",
   "metadata": {},
   "source": [
    "- Avaliando a **acurácia**"
   ]
  },
  {
   "cell_type": "code",
   "execution_count": 57,
   "id": "02fbd240",
   "metadata": {},
   "outputs": [],
   "source": [
    "# Importando\n",
    "from sklearn.metrics import accuracy_score"
   ]
  },
  {
   "cell_type": "code",
   "execution_count": 58,
   "id": "708543cc",
   "metadata": {},
   "outputs": [
    {
     "data": {
      "text/plain": [
       "0.7333565702335308"
      ]
     },
     "execution_count": 58,
     "metadata": {},
     "output_type": "execute_result"
    }
   ],
   "source": [
    "# Para a árvore\n",
    "accuracy_score(y_val, y_pred_ac)"
   ]
  },
  {
   "cell_type": "code",
   "execution_count": 59,
   "id": "e38b7270",
   "metadata": {},
   "outputs": [
    {
     "data": {
      "text/plain": [
       "0.7549668874172185"
      ]
     },
     "execution_count": 59,
     "metadata": {},
     "output_type": "execute_result"
    }
   ],
   "source": [
    "# Para o knn\n",
    "accuracy_score(y_val, y_pred_knn)"
   ]
  },
  {
   "cell_type": "code",
   "execution_count": 60,
   "id": "446439ae",
   "metadata": {},
   "outputs": [
    {
     "data": {
      "text/plain": [
       "0.7765772046009063"
      ]
     },
     "execution_count": 60,
     "metadata": {},
     "output_type": "execute_result"
    }
   ],
   "source": [
    "# Para a regressão logística\n",
    "accuracy_score(y_val, y_pred_rl)"
   ]
  },
  {
   "cell_type": "markdown",
   "id": "86e8e994",
   "metadata": {},
   "source": [
    "- Avaliando a **matriz de confusão**"
   ]
  },
  {
   "cell_type": "code",
   "execution_count": 61,
   "id": "d8265dc0",
   "metadata": {},
   "outputs": [],
   "source": [
    "# Importando\n",
    "from sklearn.metrics import confusion_matrix"
   ]
  },
  {
   "cell_type": "code",
   "execution_count": 62,
   "id": "9f7278ae",
   "metadata": {},
   "outputs": [
    {
     "data": {
      "text/plain": [
       "array([[ 977,  447],\n",
       "       [ 318, 1127]], dtype=int64)"
      ]
     },
     "execution_count": 62,
     "metadata": {},
     "output_type": "execute_result"
    }
   ],
   "source": [
    "# Para a árvore\n",
    "confusion_matrix(y_val, y_pred_ac)"
   ]
  },
  {
   "cell_type": "code",
   "execution_count": 63,
   "id": "b4e9c36a",
   "metadata": {},
   "outputs": [
    {
     "data": {
      "text/plain": [
       "array([[1045,  379],\n",
       "       [ 324, 1121]], dtype=int64)"
      ]
     },
     "execution_count": 63,
     "metadata": {},
     "output_type": "execute_result"
    }
   ],
   "source": [
    "# Para o knn\n",
    "confusion_matrix(y_val, y_pred_knn)"
   ]
  },
  {
   "cell_type": "code",
   "execution_count": 64,
   "id": "4edc78f2",
   "metadata": {},
   "outputs": [
    {
     "data": {
      "text/plain": [
       "array([[1051,  373],\n",
       "       [ 268, 1177]], dtype=int64)"
      ]
     },
     "execution_count": 64,
     "metadata": {},
     "output_type": "execute_result"
    }
   ],
   "source": [
    "# Para a regressão logística\n",
    "confusion_matrix(y_val, y_pred_rl)"
   ]
  },
  {
   "cell_type": "markdown",
   "id": "4656b058",
   "metadata": {},
   "source": [
    "### Fazendo a previsão para os dados de teste\n",
    "- Vamos usar o modelo com melhor precisão para fazer o predict na base de teste"
   ]
  },
  {
   "cell_type": "code",
   "execution_count": 65,
   "id": "d316d0f3",
   "metadata": {},
   "outputs": [
    {
     "data": {
      "text/html": [
       "<div>\n",
       "<style scoped>\n",
       "    .dataframe tbody tr th:only-of-type {\n",
       "        vertical-align: middle;\n",
       "    }\n",
       "\n",
       "    .dataframe tbody tr th {\n",
       "        vertical-align: top;\n",
       "    }\n",
       "\n",
       "    .dataframe thead th {\n",
       "        text-align: right;\n",
       "    }\n",
       "</style>\n",
       "<table border=\"1\" class=\"dataframe\">\n",
       "  <thead>\n",
       "    <tr style=\"text-align: right;\">\n",
       "      <th></th>\n",
       "      <th>Age</th>\n",
       "      <th>RoomService</th>\n",
       "      <th>FoodCourt</th>\n",
       "      <th>ShoppingMall</th>\n",
       "      <th>Spa</th>\n",
       "      <th>VRDeck</th>\n",
       "      <th>VIPCheck</th>\n",
       "      <th>CryoSCheck</th>\n",
       "      <th>HomePlanet_Earth</th>\n",
       "      <th>HomePlanet_Europa</th>\n",
       "      <th>HomePlanet_Mars</th>\n",
       "      <th>Destination_55 Cancri e</th>\n",
       "      <th>Destination_PSO J318.5-22</th>\n",
       "      <th>Destination_TRAPPIST-1e</th>\n",
       "    </tr>\n",
       "  </thead>\n",
       "  <tbody>\n",
       "    <tr>\n",
       "      <th>4696</th>\n",
       "      <td>35.0</td>\n",
       "      <td>1337.0</td>\n",
       "      <td>49.0</td>\n",
       "      <td>57.0</td>\n",
       "      <td>0.0</td>\n",
       "      <td>0.0</td>\n",
       "      <td>0</td>\n",
       "      <td>0</td>\n",
       "      <td>0</td>\n",
       "      <td>0</td>\n",
       "      <td>1</td>\n",
       "      <td>0</td>\n",
       "      <td>0</td>\n",
       "      <td>1</td>\n",
       "    </tr>\n",
       "    <tr>\n",
       "      <th>5946</th>\n",
       "      <td>28.0</td>\n",
       "      <td>0.0</td>\n",
       "      <td>152.0</td>\n",
       "      <td>215.0</td>\n",
       "      <td>30.0</td>\n",
       "      <td>510.0</td>\n",
       "      <td>0</td>\n",
       "      <td>0</td>\n",
       "      <td>1</td>\n",
       "      <td>0</td>\n",
       "      <td>0</td>\n",
       "      <td>0</td>\n",
       "      <td>0</td>\n",
       "      <td>1</td>\n",
       "    </tr>\n",
       "    <tr>\n",
       "      <th>227</th>\n",
       "      <td>43.0</td>\n",
       "      <td>0.0</td>\n",
       "      <td>0.0</td>\n",
       "      <td>0.0</td>\n",
       "      <td>0.0</td>\n",
       "      <td>0.0</td>\n",
       "      <td>0</td>\n",
       "      <td>1</td>\n",
       "      <td>0</td>\n",
       "      <td>0</td>\n",
       "      <td>1</td>\n",
       "      <td>0</td>\n",
       "      <td>0</td>\n",
       "      <td>1</td>\n",
       "    </tr>\n",
       "  </tbody>\n",
       "</table>\n",
       "</div>"
      ],
      "text/plain": [
       "       Age  RoomService  FoodCourt  ShoppingMall   Spa  VRDeck  VIPCheck  \\\n",
       "4696  35.0       1337.0       49.0          57.0   0.0     0.0         0   \n",
       "5946  28.0          0.0      152.0         215.0  30.0   510.0         0   \n",
       "227   43.0          0.0        0.0           0.0   0.0     0.0         0   \n",
       "\n",
       "      CryoSCheck  HomePlanet_Earth  HomePlanet_Europa  HomePlanet_Mars  \\\n",
       "4696           0                 0                  0                1   \n",
       "5946           0                 1                  0                0   \n",
       "227            1                 0                  0                1   \n",
       "\n",
       "      Destination_55 Cancri e  Destination_PSO J318.5-22  \\\n",
       "4696                        0                          0   \n",
       "5946                        0                          0   \n",
       "227                         0                          0   \n",
       "\n",
       "      Destination_TRAPPIST-1e  \n",
       "4696                        1  \n",
       "5946                        1  \n",
       "227                         1  "
      ]
     },
     "execution_count": 65,
     "metadata": {},
     "output_type": "execute_result"
    }
   ],
   "source": [
    "# Visualizando o X_train\n",
    "X_train.head(3)"
   ]
  },
  {
   "cell_type": "code",
   "execution_count": 66,
   "id": "b97efd5c",
   "metadata": {},
   "outputs": [
    {
     "data": {
      "text/html": [
       "<div>\n",
       "<style scoped>\n",
       "    .dataframe tbody tr th:only-of-type {\n",
       "        vertical-align: middle;\n",
       "    }\n",
       "\n",
       "    .dataframe tbody tr th {\n",
       "        vertical-align: top;\n",
       "    }\n",
       "\n",
       "    .dataframe thead th {\n",
       "        text-align: right;\n",
       "    }\n",
       "</style>\n",
       "<table border=\"1\" class=\"dataframe\">\n",
       "  <thead>\n",
       "    <tr style=\"text-align: right;\">\n",
       "      <th></th>\n",
       "      <th>PassengerId</th>\n",
       "      <th>Age</th>\n",
       "      <th>RoomService</th>\n",
       "      <th>FoodCourt</th>\n",
       "      <th>ShoppingMall</th>\n",
       "      <th>Spa</th>\n",
       "      <th>VRDeck</th>\n",
       "      <th>VIPCheck</th>\n",
       "      <th>CryoSCheck</th>\n",
       "      <th>HomePlanet_Earth</th>\n",
       "      <th>HomePlanet_Europa</th>\n",
       "      <th>HomePlanet_Mars</th>\n",
       "      <th>Destination_55 Cancri e</th>\n",
       "      <th>Destination_PSO J318.5-22</th>\n",
       "      <th>Destination_TRAPPIST-1e</th>\n",
       "    </tr>\n",
       "  </thead>\n",
       "  <tbody>\n",
       "    <tr>\n",
       "      <th>0</th>\n",
       "      <td>0013_01</td>\n",
       "      <td>27.0</td>\n",
       "      <td>0.0</td>\n",
       "      <td>0.0</td>\n",
       "      <td>0.0</td>\n",
       "      <td>0.0</td>\n",
       "      <td>0.0</td>\n",
       "      <td>0</td>\n",
       "      <td>1</td>\n",
       "      <td>1</td>\n",
       "      <td>0</td>\n",
       "      <td>0</td>\n",
       "      <td>0</td>\n",
       "      <td>0</td>\n",
       "      <td>1</td>\n",
       "    </tr>\n",
       "    <tr>\n",
       "      <th>1</th>\n",
       "      <td>0018_01</td>\n",
       "      <td>19.0</td>\n",
       "      <td>0.0</td>\n",
       "      <td>9.0</td>\n",
       "      <td>0.0</td>\n",
       "      <td>2823.0</td>\n",
       "      <td>0.0</td>\n",
       "      <td>0</td>\n",
       "      <td>0</td>\n",
       "      <td>1</td>\n",
       "      <td>0</td>\n",
       "      <td>0</td>\n",
       "      <td>0</td>\n",
       "      <td>0</td>\n",
       "      <td>1</td>\n",
       "    </tr>\n",
       "    <tr>\n",
       "      <th>2</th>\n",
       "      <td>0019_01</td>\n",
       "      <td>31.0</td>\n",
       "      <td>0.0</td>\n",
       "      <td>0.0</td>\n",
       "      <td>0.0</td>\n",
       "      <td>0.0</td>\n",
       "      <td>0.0</td>\n",
       "      <td>0</td>\n",
       "      <td>1</td>\n",
       "      <td>0</td>\n",
       "      <td>1</td>\n",
       "      <td>0</td>\n",
       "      <td>1</td>\n",
       "      <td>0</td>\n",
       "      <td>0</td>\n",
       "    </tr>\n",
       "  </tbody>\n",
       "</table>\n",
       "</div>"
      ],
      "text/plain": [
       "  PassengerId   Age  RoomService  FoodCourt  ShoppingMall     Spa  VRDeck  \\\n",
       "0     0013_01  27.0          0.0        0.0           0.0     0.0     0.0   \n",
       "1     0018_01  19.0          0.0        9.0           0.0  2823.0     0.0   \n",
       "2     0019_01  31.0          0.0        0.0           0.0     0.0     0.0   \n",
       "\n",
       "   VIPCheck  CryoSCheck  HomePlanet_Earth  HomePlanet_Europa  HomePlanet_Mars  \\\n",
       "0         0           1                 1                  0                0   \n",
       "1         0           0                 1                  0                0   \n",
       "2         0           1                 0                  1                0   \n",
       "\n",
       "   Destination_55 Cancri e  Destination_PSO J318.5-22  Destination_TRAPPIST-1e  \n",
       "0                        0                          0                        1  \n",
       "1                        0                          0                        1  \n",
       "2                        1                          0                        0  "
      ]
     },
     "execution_count": 66,
     "metadata": {},
     "output_type": "execute_result"
    }
   ],
   "source": [
    "# Visualizando a base de teste\n",
    "teste.head(3)"
   ]
  },
  {
   "cell_type": "code",
   "execution_count": 67,
   "id": "e34f5ff4",
   "metadata": {},
   "outputs": [],
   "source": [
    "# Para a base de teste ser igual a base de treino, precisamos eliminar a coluna de id\n",
    "X_teste = teste.drop('PassengerId', axis=1)"
   ]
  },
  {
   "cell_type": "code",
   "execution_count": 68,
   "id": "f0497a13",
   "metadata": {},
   "outputs": [],
   "source": [
    "# Utilizando a regressão logística na base de teste\n",
    "y_pred = clf_rl.predict(X_teste)"
   ]
  },
  {
   "cell_type": "code",
   "execution_count": 69,
   "id": "08fffa82",
   "metadata": {},
   "outputs": [],
   "source": [
    "# Criando uma nova coluna com a previsão na base de teste\n",
    "teste['Transported'] = y_pred"
   ]
  },
  {
   "cell_type": "code",
   "execution_count": 70,
   "id": "8b1fb599",
   "metadata": {},
   "outputs": [],
   "source": [
    "# Selecionando apenas a coluna de Id e Survived para fazer o envio\n",
    "base_envio = teste[['PassengerId', 'Transported']]"
   ]
  },
  {
   "cell_type": "code",
   "execution_count": 71,
   "id": "2965c544",
   "metadata": {},
   "outputs": [],
   "source": [
    "# Exportando para um csv\n",
    "base_envio.to_csv('resultado2.csv', index=False)"
   ]
  },
  {
   "cell_type": "markdown",
   "id": "460b0a64",
   "metadata": {},
   "source": [
    "## Resultado\n",
    "\n",
    "- Modelo acertou 78,95% das avaliações\n",
    "- Mesmo diminuindo a taxa de Falsos Negativos, o modelo não apresentou ganhos consideraveis em relação ao anterior\n",
    "    \n",
    "<img src=\"pkgImages/tentativa2.png\" width=900>"
   ]
  },
  {
   "cell_type": "code",
   "execution_count": null,
   "id": "d33862df",
   "metadata": {},
   "outputs": [],
   "source": []
  }
 ],
 "metadata": {
  "kernelspec": {
   "display_name": "Python 3 (ipykernel)",
   "language": "python",
   "name": "python3"
  },
  "language_info": {
   "codemirror_mode": {
    "name": "ipython",
    "version": 3
   },
   "file_extension": ".py",
   "mimetype": "text/x-python",
   "name": "python",
   "nbconvert_exporter": "python",
   "pygments_lexer": "ipython3",
   "version": "3.11.5"
  }
 },
 "nbformat": 4,
 "nbformat_minor": 5
}
