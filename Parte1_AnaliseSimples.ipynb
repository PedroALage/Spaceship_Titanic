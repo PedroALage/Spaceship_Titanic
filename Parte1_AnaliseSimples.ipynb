{
 "cells": [
  {
   "cell_type": "markdown",
   "id": "63baa6ef",
   "metadata": {},
   "source": [
    "# Spaceship Titanic\n",
    "\n",
    "- Utilizaando os [dados disponíveis no Kaggle](https://www.kaggle.com/competitions/spaceship-titanic)\n",
    "    - Dataset de **competição**\n",
    "    - O resultado é avaliado através da **acurácia**"
   ]
  },
  {
   "cell_type": "markdown",
   "id": "0c68fded",
   "metadata": {},
   "source": [
    "### Importando novamente as bases\n",
    "- Importando oque foi feito na [Parte0](https://github.com/PedroALage/Projetos/blob/main/Data_Science/Spaceship_Titanic/Parte0_TratandoDados.ipynb)"
   ]
  },
  {
   "cell_type": "code",
   "execution_count": 1,
   "id": "ca06f81f",
   "metadata": {},
   "outputs": [],
   "source": [
    "# Importando o pandas\n",
    "import pandas as pd"
   ]
  },
  {
   "cell_type": "code",
   "execution_count": 2,
   "id": "3340d81a",
   "metadata": {},
   "outputs": [
    {
     "data": {
      "text/html": [
       "<div>\n",
       "<style scoped>\n",
       "    .dataframe tbody tr th:only-of-type {\n",
       "        vertical-align: middle;\n",
       "    }\n",
       "\n",
       "    .dataframe tbody tr th {\n",
       "        vertical-align: top;\n",
       "    }\n",
       "\n",
       "    .dataframe thead th {\n",
       "        text-align: right;\n",
       "    }\n",
       "</style>\n",
       "<table border=\"1\" class=\"dataframe\">\n",
       "  <thead>\n",
       "    <tr style=\"text-align: right;\">\n",
       "      <th></th>\n",
       "      <th>PassengerId</th>\n",
       "      <th>HomePlanet</th>\n",
       "      <th>CryoSleep</th>\n",
       "      <th>Destination</th>\n",
       "      <th>Age</th>\n",
       "      <th>VIP</th>\n",
       "      <th>RoomService</th>\n",
       "      <th>FoodCourt</th>\n",
       "      <th>ShoppingMall</th>\n",
       "      <th>Spa</th>\n",
       "      <th>VRDeck</th>\n",
       "      <th>Transported</th>\n",
       "    </tr>\n",
       "  </thead>\n",
       "  <tbody>\n",
       "    <tr>\n",
       "      <th>0</th>\n",
       "      <td>0001_01</td>\n",
       "      <td>Europa</td>\n",
       "      <td>False</td>\n",
       "      <td>TRAPPIST-1e</td>\n",
       "      <td>39.0</td>\n",
       "      <td>False</td>\n",
       "      <td>0.0</td>\n",
       "      <td>0.0</td>\n",
       "      <td>0.0</td>\n",
       "      <td>0.0</td>\n",
       "      <td>0.0</td>\n",
       "      <td>False</td>\n",
       "    </tr>\n",
       "    <tr>\n",
       "      <th>1</th>\n",
       "      <td>0002_01</td>\n",
       "      <td>Earth</td>\n",
       "      <td>False</td>\n",
       "      <td>TRAPPIST-1e</td>\n",
       "      <td>24.0</td>\n",
       "      <td>False</td>\n",
       "      <td>109.0</td>\n",
       "      <td>9.0</td>\n",
       "      <td>25.0</td>\n",
       "      <td>549.0</td>\n",
       "      <td>44.0</td>\n",
       "      <td>True</td>\n",
       "    </tr>\n",
       "    <tr>\n",
       "      <th>2</th>\n",
       "      <td>0003_01</td>\n",
       "      <td>Europa</td>\n",
       "      <td>False</td>\n",
       "      <td>TRAPPIST-1e</td>\n",
       "      <td>58.0</td>\n",
       "      <td>True</td>\n",
       "      <td>43.0</td>\n",
       "      <td>3576.0</td>\n",
       "      <td>0.0</td>\n",
       "      <td>6715.0</td>\n",
       "      <td>49.0</td>\n",
       "      <td>False</td>\n",
       "    </tr>\n",
       "  </tbody>\n",
       "</table>\n",
       "</div>"
      ],
      "text/plain": [
       "  PassengerId HomePlanet  CryoSleep  Destination   Age    VIP  RoomService  \\\n",
       "0     0001_01     Europa      False  TRAPPIST-1e  39.0  False          0.0   \n",
       "1     0002_01      Earth      False  TRAPPIST-1e  24.0  False        109.0   \n",
       "2     0003_01     Europa      False  TRAPPIST-1e  58.0   True         43.0   \n",
       "\n",
       "   FoodCourt  ShoppingMall     Spa  VRDeck  Transported  \n",
       "0        0.0           0.0     0.0     0.0        False  \n",
       "1        9.0          25.0   549.0    44.0         True  \n",
       "2     3576.0           0.0  6715.0    49.0        False  "
      ]
     },
     "execution_count": 2,
     "metadata": {},
     "output_type": "execute_result"
    }
   ],
   "source": [
    "# Visualizando a base de treino\n",
    "treino = pd.read_csv('treino_trat1.csv')\n",
    "treino.head(3)"
   ]
  },
  {
   "cell_type": "code",
   "execution_count": 3,
   "id": "bc6de0a9",
   "metadata": {},
   "outputs": [
    {
     "name": "stdout",
     "output_type": "stream",
     "text": [
      "<class 'pandas.core.frame.DataFrame'>\n",
      "RangeIndex: 8693 entries, 0 to 8692\n",
      "Data columns (total 12 columns):\n",
      " #   Column        Non-Null Count  Dtype  \n",
      "---  ------        --------------  -----  \n",
      " 0   PassengerId   8693 non-null   object \n",
      " 1   HomePlanet    8693 non-null   object \n",
      " 2   CryoSleep     8693 non-null   bool   \n",
      " 3   Destination   8693 non-null   object \n",
      " 4   Age           8693 non-null   float64\n",
      " 5   VIP           8693 non-null   bool   \n",
      " 6   RoomService   8693 non-null   float64\n",
      " 7   FoodCourt     8693 non-null   float64\n",
      " 8   ShoppingMall  8693 non-null   float64\n",
      " 9   Spa           8693 non-null   float64\n",
      " 10  VRDeck        8693 non-null   float64\n",
      " 11  Transported   8693 non-null   bool   \n",
      "dtypes: bool(3), float64(6), object(3)\n",
      "memory usage: 636.8+ KB\n"
     ]
    }
   ],
   "source": [
    "# Verificando as informações da base\n",
    "treino.info()"
   ]
  },
  {
   "cell_type": "code",
   "execution_count": 4,
   "id": "279f17dc",
   "metadata": {
    "scrolled": true
   },
   "outputs": [
    {
     "data": {
      "text/plain": [
       "PassengerId     0\n",
       "HomePlanet      0\n",
       "CryoSleep       0\n",
       "Destination     0\n",
       "Age             0\n",
       "VIP             0\n",
       "RoomService     0\n",
       "FoodCourt       0\n",
       "ShoppingMall    0\n",
       "Spa             0\n",
       "VRDeck          0\n",
       "Transported     0\n",
       "dtype: int64"
      ]
     },
     "execution_count": 4,
     "metadata": {},
     "output_type": "execute_result"
    }
   ],
   "source": [
    "# E os valores nulos\n",
    "treino.isnull().sum().sort_values(ascending=False)"
   ]
  },
  {
   "cell_type": "markdown",
   "id": "b89509f7",
   "metadata": {},
   "source": [
    "- **Visualizando a base de teste**"
   ]
  },
  {
   "cell_type": "code",
   "execution_count": 5,
   "id": "87c1caaa",
   "metadata": {},
   "outputs": [
    {
     "data": {
      "text/html": [
       "<div>\n",
       "<style scoped>\n",
       "    .dataframe tbody tr th:only-of-type {\n",
       "        vertical-align: middle;\n",
       "    }\n",
       "\n",
       "    .dataframe tbody tr th {\n",
       "        vertical-align: top;\n",
       "    }\n",
       "\n",
       "    .dataframe thead th {\n",
       "        text-align: right;\n",
       "    }\n",
       "</style>\n",
       "<table border=\"1\" class=\"dataframe\">\n",
       "  <thead>\n",
       "    <tr style=\"text-align: right;\">\n",
       "      <th></th>\n",
       "      <th>PassengerId</th>\n",
       "      <th>HomePlanet</th>\n",
       "      <th>CryoSleep</th>\n",
       "      <th>Destination</th>\n",
       "      <th>Age</th>\n",
       "      <th>VIP</th>\n",
       "      <th>RoomService</th>\n",
       "      <th>FoodCourt</th>\n",
       "      <th>ShoppingMall</th>\n",
       "      <th>Spa</th>\n",
       "      <th>VRDeck</th>\n",
       "    </tr>\n",
       "  </thead>\n",
       "  <tbody>\n",
       "    <tr>\n",
       "      <th>0</th>\n",
       "      <td>0013_01</td>\n",
       "      <td>Earth</td>\n",
       "      <td>True</td>\n",
       "      <td>TRAPPIST-1e</td>\n",
       "      <td>27.0</td>\n",
       "      <td>False</td>\n",
       "      <td>0.0</td>\n",
       "      <td>0.0</td>\n",
       "      <td>0.0</td>\n",
       "      <td>0.0</td>\n",
       "      <td>0.0</td>\n",
       "    </tr>\n",
       "    <tr>\n",
       "      <th>1</th>\n",
       "      <td>0018_01</td>\n",
       "      <td>Earth</td>\n",
       "      <td>False</td>\n",
       "      <td>TRAPPIST-1e</td>\n",
       "      <td>19.0</td>\n",
       "      <td>False</td>\n",
       "      <td>0.0</td>\n",
       "      <td>9.0</td>\n",
       "      <td>0.0</td>\n",
       "      <td>2823.0</td>\n",
       "      <td>0.0</td>\n",
       "    </tr>\n",
       "    <tr>\n",
       "      <th>2</th>\n",
       "      <td>0019_01</td>\n",
       "      <td>Europa</td>\n",
       "      <td>True</td>\n",
       "      <td>55 Cancri e</td>\n",
       "      <td>31.0</td>\n",
       "      <td>False</td>\n",
       "      <td>0.0</td>\n",
       "      <td>0.0</td>\n",
       "      <td>0.0</td>\n",
       "      <td>0.0</td>\n",
       "      <td>0.0</td>\n",
       "    </tr>\n",
       "  </tbody>\n",
       "</table>\n",
       "</div>"
      ],
      "text/plain": [
       "  PassengerId HomePlanet  CryoSleep  Destination   Age    VIP  RoomService  \\\n",
       "0     0013_01      Earth       True  TRAPPIST-1e  27.0  False          0.0   \n",
       "1     0018_01      Earth      False  TRAPPIST-1e  19.0  False          0.0   \n",
       "2     0019_01     Europa       True  55 Cancri e  31.0  False          0.0   \n",
       "\n",
       "   FoodCourt  ShoppingMall     Spa  VRDeck  \n",
       "0        0.0           0.0     0.0     0.0  \n",
       "1        9.0           0.0  2823.0     0.0  \n",
       "2        0.0           0.0     0.0     0.0  "
      ]
     },
     "execution_count": 5,
     "metadata": {},
     "output_type": "execute_result"
    }
   ],
   "source": [
    "# Visualizando a base de teste\n",
    "teste = pd.read_csv('teste_trat1.csv')\n",
    "teste.head(3)"
   ]
  },
  {
   "cell_type": "code",
   "execution_count": 6,
   "id": "d3ffcf9f",
   "metadata": {},
   "outputs": [
    {
     "name": "stdout",
     "output_type": "stream",
     "text": [
      "<class 'pandas.core.frame.DataFrame'>\n",
      "RangeIndex: 4277 entries, 0 to 4276\n",
      "Data columns (total 11 columns):\n",
      " #   Column        Non-Null Count  Dtype  \n",
      "---  ------        --------------  -----  \n",
      " 0   PassengerId   4277 non-null   object \n",
      " 1   HomePlanet    4277 non-null   object \n",
      " 2   CryoSleep     4277 non-null   bool   \n",
      " 3   Destination   4277 non-null   object \n",
      " 4   Age           4277 non-null   float64\n",
      " 5   VIP           4277 non-null   bool   \n",
      " 6   RoomService   4277 non-null   float64\n",
      " 7   FoodCourt     4277 non-null   float64\n",
      " 8   ShoppingMall  4277 non-null   float64\n",
      " 9   Spa           4277 non-null   float64\n",
      " 10  VRDeck        4277 non-null   float64\n",
      "dtypes: bool(2), float64(6), object(3)\n",
      "memory usage: 309.2+ KB\n"
     ]
    }
   ],
   "source": [
    "# Verificando as informações da base\n",
    "teste.info()"
   ]
  },
  {
   "cell_type": "code",
   "execution_count": 7,
   "id": "e5284e8e",
   "metadata": {},
   "outputs": [
    {
     "data": {
      "text/plain": [
       "PassengerId     0\n",
       "HomePlanet      0\n",
       "CryoSleep       0\n",
       "Destination     0\n",
       "Age             0\n",
       "VIP             0\n",
       "RoomService     0\n",
       "FoodCourt       0\n",
       "ShoppingMall    0\n",
       "Spa             0\n",
       "VRDeck          0\n",
       "dtype: int64"
      ]
     },
     "execution_count": 7,
     "metadata": {},
     "output_type": "execute_result"
    }
   ],
   "source": [
    "# Analisando os valores nulos\n",
    "teste.isnull().sum().sort_values(ascending=False)"
   ]
  },
  {
   "cell_type": "markdown",
   "id": "ef81eda3",
   "metadata": {},
   "source": [
    "### Considerando apenas as colunas que não são de texto"
   ]
  },
  {
   "cell_type": "code",
   "execution_count": 8,
   "id": "ffbf4a5c",
   "metadata": {},
   "outputs": [
    {
     "data": {
      "text/plain": [
       "Index(['CryoSleep', 'Age', 'VIP', 'RoomService', 'FoodCourt', 'ShoppingMall',\n",
       "       'Spa', 'VRDeck', 'Transported'],\n",
       "      dtype='object')"
      ]
     },
     "execution_count": 8,
     "metadata": {},
     "output_type": "execute_result"
    }
   ],
   "source": [
    "# Verificando as colunas de texto na base de treino\n",
    "col_treino_nr = treino.columns[treino.dtypes != 'object']\n",
    "col_treino_nr"
   ]
  },
  {
   "cell_type": "code",
   "execution_count": 9,
   "id": "f5ce9e75",
   "metadata": {},
   "outputs": [],
   "source": [
    "# Selecionando apenas os valores numéricos da base de treino\n",
    "treino_nr = treino.loc[:,col_treino_nr]"
   ]
  },
  {
   "cell_type": "code",
   "execution_count": 10,
   "id": "ec8de66e",
   "metadata": {},
   "outputs": [
    {
     "data": {
      "text/plain": [
       "Index(['CryoSleep', 'Age', 'VIP', 'RoomService', 'FoodCourt', 'ShoppingMall',\n",
       "       'Spa', 'VRDeck'],\n",
       "      dtype='object')"
      ]
     },
     "execution_count": 10,
     "metadata": {},
     "output_type": "execute_result"
    }
   ],
   "source": [
    "# E para a base de teste\n",
    "col_teste_nr = teste.columns[teste.dtypes != 'object']\n",
    "col_teste_nr"
   ]
  },
  {
   "cell_type": "code",
   "execution_count": 11,
   "id": "674d37b1",
   "metadata": {},
   "outputs": [],
   "source": [
    "# e os valores numéricos da base de teste\n",
    "teste_nr = teste.loc[:,col_teste_nr]"
   ]
  },
  {
   "cell_type": "markdown",
   "id": "82b1af18",
   "metadata": {},
   "source": [
    "### Modelo para classificar os dados\n",
    "- Testar entre:\n",
    "    - **Árvore de classificação**\n",
    "        - https://scikit-learn.org/stable/modules/tree.html#classification\n",
    "    - **Classificação dos vizinhos mais próximos**\n",
    "        - https://scikit-learn.org/stable/modules/generated/sklearn.neighbors.KNeighborsClassifier.html#sklearn.neighbors.KNeighborsClassifier\n",
    "    - **Regressão Logística**\n",
    "        - https://scikit-learn.org/stable/modules/generated/sklearn.linear_model.LogisticRegression.html#sklearn.linear_model.LogisticRegression"
   ]
  },
  {
   "cell_type": "markdown",
   "id": "5ae2ee76",
   "metadata": {},
   "source": [
    "- Separando a base de treino em **treino e validação**\n",
    "    - Vamos fazer isso utilizando o **train_test_split**\n",
    "        - https://scikit-learn.org/stable/modules/generated/sklearn.model_selection.train_test_split.html"
   ]
  },
  {
   "cell_type": "code",
   "execution_count": 12,
   "id": "769a8cba",
   "metadata": {},
   "outputs": [],
   "source": [
    "# Importando o train_test_split\n",
    "from sklearn.model_selection import train_test_split"
   ]
  },
  {
   "cell_type": "code",
   "execution_count": 13,
   "id": "17dafbcf",
   "metadata": {},
   "outputs": [],
   "source": [
    "# Separando a base de treino em X e y\n",
    "X = treino_nr.drop(['Transported'], axis=1)\n",
    "y = treino.Transported"
   ]
  },
  {
   "cell_type": "code",
   "execution_count": 14,
   "id": "54bfceae",
   "metadata": {},
   "outputs": [],
   "source": [
    "# Separando em treino e validação\n",
    "X_train, X_val, y_train, y_val = train_test_split(X, y, test_size=0.33, random_state=42)"
   ]
  },
  {
   "cell_type": "markdown",
   "id": "267172c2",
   "metadata": {},
   "source": [
    "- Para a **árvore de classificação**"
   ]
  },
  {
   "cell_type": "code",
   "execution_count": 15,
   "id": "33f1d741",
   "metadata": {},
   "outputs": [],
   "source": [
    "# Fazendo a importação\n",
    "from sklearn import tree"
   ]
  },
  {
   "cell_type": "code",
   "execution_count": 16,
   "id": "954b1f36",
   "metadata": {},
   "outputs": [],
   "source": [
    "# Criando o classificador\n",
    "clf_ac = tree.DecisionTreeClassifier()"
   ]
  },
  {
   "cell_type": "code",
   "execution_count": 17,
   "id": "cb3734c7",
   "metadata": {},
   "outputs": [],
   "source": [
    "# Fazendo o fit com os dados\n",
    "clf_ac = clf_ac.fit(X_train, y_train)"
   ]
  },
  {
   "cell_type": "code",
   "execution_count": 18,
   "id": "78852919",
   "metadata": {},
   "outputs": [],
   "source": [
    "# Fazendo a previsão\n",
    "y_pred_ac = clf_ac.predict(X_val)"
   ]
  },
  {
   "cell_type": "markdown",
   "id": "dc19b4e5",
   "metadata": {},
   "source": [
    "- Para o **KNeighborsClassifier**"
   ]
  },
  {
   "cell_type": "code",
   "execution_count": 19,
   "id": "f9f971e7",
   "metadata": {},
   "outputs": [],
   "source": [
    "# Importando\n",
    "from sklearn.neighbors import KNeighborsClassifier"
   ]
  },
  {
   "cell_type": "code",
   "execution_count": 20,
   "id": "da8a904f",
   "metadata": {},
   "outputs": [],
   "source": [
    "# Criando o classificador\n",
    "clf_knn = KNeighborsClassifier(n_neighbors=3)"
   ]
  },
  {
   "cell_type": "code",
   "execution_count": 21,
   "id": "de05cae2",
   "metadata": {},
   "outputs": [],
   "source": [
    "# Fazendo o fit com os dados\n",
    "clf_knn = clf_knn.fit(X_train, y_train)"
   ]
  },
  {
   "cell_type": "code",
   "execution_count": 22,
   "id": "3caac52c",
   "metadata": {},
   "outputs": [],
   "source": [
    "# Fazendo a previsão\n",
    "y_pred_knn = clf_knn.predict(X_val)"
   ]
  },
  {
   "cell_type": "markdown",
   "id": "749c3fe8",
   "metadata": {},
   "source": [
    "- Para a **Regressão Logística**"
   ]
  },
  {
   "cell_type": "code",
   "execution_count": 23,
   "id": "45b3b211",
   "metadata": {},
   "outputs": [],
   "source": [
    "# Importando\n",
    "from sklearn.linear_model import LogisticRegression"
   ]
  },
  {
   "cell_type": "code",
   "execution_count": 24,
   "id": "948fc8bd",
   "metadata": {},
   "outputs": [],
   "source": [
    "# Criando o classificador\n",
    "clf_rl = LogisticRegression()"
   ]
  },
  {
   "cell_type": "code",
   "execution_count": 25,
   "id": "c2014d6d",
   "metadata": {},
   "outputs": [],
   "source": [
    "# Fazendo o fit com os dados\n",
    "clf_rl = clf_rl.fit(X_train, y_train)"
   ]
  },
  {
   "cell_type": "code",
   "execution_count": 26,
   "id": "8e878605",
   "metadata": {},
   "outputs": [],
   "source": [
    "# Fazendo a previsão\n",
    "y_pred_rl = clf_rl.predict(X_val)"
   ]
  },
  {
   "cell_type": "markdown",
   "id": "a9176a1c",
   "metadata": {},
   "source": [
    "### Avaliando os modelos\n",
    "- Para fazer essa análise:\n",
    "    - Acurácia (método de avaliação usado na competição):\n",
    "        - https://scikit-learn.org/stable/modules/generated/sklearn.metrics.accuracy_score.html\n",
    "    - Matriz de confusão (ajuda a visualizar a distribuição dos erros):\n",
    "        - https://scikit-learn.org/stable/modules/generated/sklearn.metrics.confusion_matrix.html"
   ]
  },
  {
   "cell_type": "markdown",
   "id": "6df51415",
   "metadata": {},
   "source": [
    "- Avaliando a **acurácia**"
   ]
  },
  {
   "cell_type": "code",
   "execution_count": 27,
   "id": "a5b05922",
   "metadata": {},
   "outputs": [],
   "source": [
    "# Importando\n",
    "from sklearn.metrics import accuracy_score"
   ]
  },
  {
   "cell_type": "code",
   "execution_count": 28,
   "id": "e30194eb",
   "metadata": {},
   "outputs": [
    {
     "data": {
      "text/plain": [
       "0.7305681422098292"
      ]
     },
     "execution_count": 28,
     "metadata": {},
     "output_type": "execute_result"
    }
   ],
   "source": [
    "# Para a árvore\n",
    "accuracy_score(y_val, y_pred_ac)"
   ]
  },
  {
   "cell_type": "code",
   "execution_count": 29,
   "id": "48ab9f2b",
   "metadata": {},
   "outputs": [
    {
     "data": {
      "text/plain": [
       "0.7577553154409202"
      ]
     },
     "execution_count": 29,
     "metadata": {},
     "output_type": "execute_result"
    }
   ],
   "source": [
    "# Para o knn\n",
    "accuracy_score(y_val, y_pred_knn)"
   ]
  },
  {
   "cell_type": "code",
   "execution_count": 30,
   "id": "0a47a83e",
   "metadata": {},
   "outputs": [
    {
     "data": {
      "text/plain": [
       "0.7713489020564657"
      ]
     },
     "execution_count": 30,
     "metadata": {},
     "output_type": "execute_result"
    }
   ],
   "source": [
    "# Para a regressão logística\n",
    "accuracy_score(y_val, y_pred_rl)"
   ]
  },
  {
   "cell_type": "markdown",
   "id": "75f1463d",
   "metadata": {},
   "source": [
    "- Avaliando a **matriz de confusão**"
   ]
  },
  {
   "cell_type": "code",
   "execution_count": 44,
   "id": "93e0460f",
   "metadata": {},
   "outputs": [],
   "source": [
    "# Importando\n",
    "from sklearn.metrics import confusion_matrix"
   ]
  },
  {
   "cell_type": "code",
   "execution_count": 45,
   "id": "5cde2465",
   "metadata": {},
   "outputs": [
    {
     "data": {
      "text/plain": [
       "array([[ 919,  505],\n",
       "       [ 268, 1177]], dtype=int64)"
      ]
     },
     "execution_count": 45,
     "metadata": {},
     "output_type": "execute_result"
    }
   ],
   "source": [
    "# Para a árvore\n",
    "confusion_matrix(y_val, y_pred_ac)"
   ]
  },
  {
   "cell_type": "code",
   "execution_count": 46,
   "id": "8e83d4d9",
   "metadata": {},
   "outputs": [
    {
     "data": {
      "text/plain": [
       "array([[1009,  415],\n",
       "       [ 280, 1165]], dtype=int64)"
      ]
     },
     "execution_count": 46,
     "metadata": {},
     "output_type": "execute_result"
    }
   ],
   "source": [
    "# Para o knn\n",
    "confusion_matrix(y_val, y_pred_knn)"
   ]
  },
  {
   "cell_type": "code",
   "execution_count": 47,
   "id": "b3f4499b",
   "metadata": {},
   "outputs": [
    {
     "data": {
      "text/plain": [
       "array([[1051,  373],\n",
       "       [ 283, 1162]], dtype=int64)"
      ]
     },
     "execution_count": 47,
     "metadata": {},
     "output_type": "execute_result"
    }
   ],
   "source": [
    "# Para a regressão logística\n",
    "confusion_matrix(y_val, y_pred_rl)"
   ]
  },
  {
   "cell_type": "markdown",
   "id": "70fb0198",
   "metadata": {},
   "source": [
    "### Fazendo a previsão para os dados de teste\n",
    "- Vamos usar o modelo com melhor precisão para fazer o predict na base de teste"
   ]
  },
  {
   "cell_type": "code",
   "execution_count": 50,
   "id": "e2661e59",
   "metadata": {},
   "outputs": [
    {
     "data": {
      "text/html": [
       "<div>\n",
       "<style scoped>\n",
       "    .dataframe tbody tr th:only-of-type {\n",
       "        vertical-align: middle;\n",
       "    }\n",
       "\n",
       "    .dataframe tbody tr th {\n",
       "        vertical-align: top;\n",
       "    }\n",
       "\n",
       "    .dataframe thead th {\n",
       "        text-align: right;\n",
       "    }\n",
       "</style>\n",
       "<table border=\"1\" class=\"dataframe\">\n",
       "  <thead>\n",
       "    <tr style=\"text-align: right;\">\n",
       "      <th></th>\n",
       "      <th>CryoSleep</th>\n",
       "      <th>Age</th>\n",
       "      <th>VIP</th>\n",
       "      <th>RoomService</th>\n",
       "      <th>FoodCourt</th>\n",
       "      <th>ShoppingMall</th>\n",
       "      <th>Spa</th>\n",
       "      <th>VRDeck</th>\n",
       "    </tr>\n",
       "  </thead>\n",
       "  <tbody>\n",
       "    <tr>\n",
       "      <th>4696</th>\n",
       "      <td>False</td>\n",
       "      <td>35.0</td>\n",
       "      <td>False</td>\n",
       "      <td>1337.0</td>\n",
       "      <td>49.0</td>\n",
       "      <td>57.0</td>\n",
       "      <td>0.0</td>\n",
       "      <td>0.0</td>\n",
       "    </tr>\n",
       "    <tr>\n",
       "      <th>5946</th>\n",
       "      <td>False</td>\n",
       "      <td>28.0</td>\n",
       "      <td>False</td>\n",
       "      <td>0.0</td>\n",
       "      <td>152.0</td>\n",
       "      <td>215.0</td>\n",
       "      <td>30.0</td>\n",
       "      <td>510.0</td>\n",
       "    </tr>\n",
       "    <tr>\n",
       "      <th>227</th>\n",
       "      <td>True</td>\n",
       "      <td>43.0</td>\n",
       "      <td>False</td>\n",
       "      <td>0.0</td>\n",
       "      <td>0.0</td>\n",
       "      <td>0.0</td>\n",
       "      <td>0.0</td>\n",
       "      <td>0.0</td>\n",
       "    </tr>\n",
       "  </tbody>\n",
       "</table>\n",
       "</div>"
      ],
      "text/plain": [
       "      CryoSleep   Age    VIP  RoomService  FoodCourt  ShoppingMall   Spa  \\\n",
       "4696      False  35.0  False       1337.0       49.0          57.0   0.0   \n",
       "5946      False  28.0  False          0.0      152.0         215.0  30.0   \n",
       "227        True  43.0  False          0.0        0.0           0.0   0.0   \n",
       "\n",
       "      VRDeck  \n",
       "4696     0.0  \n",
       "5946   510.0  \n",
       "227      0.0  "
      ]
     },
     "execution_count": 50,
     "metadata": {},
     "output_type": "execute_result"
    }
   ],
   "source": [
    "# Visualizando o X_train\n",
    "X_train.head(3)"
   ]
  },
  {
   "cell_type": "code",
   "execution_count": 51,
   "id": "3be47ba2",
   "metadata": {},
   "outputs": [
    {
     "data": {
      "text/html": [
       "<div>\n",
       "<style scoped>\n",
       "    .dataframe tbody tr th:only-of-type {\n",
       "        vertical-align: middle;\n",
       "    }\n",
       "\n",
       "    .dataframe tbody tr th {\n",
       "        vertical-align: top;\n",
       "    }\n",
       "\n",
       "    .dataframe thead th {\n",
       "        text-align: right;\n",
       "    }\n",
       "</style>\n",
       "<table border=\"1\" class=\"dataframe\">\n",
       "  <thead>\n",
       "    <tr style=\"text-align: right;\">\n",
       "      <th></th>\n",
       "      <th>CryoSleep</th>\n",
       "      <th>Age</th>\n",
       "      <th>VIP</th>\n",
       "      <th>RoomService</th>\n",
       "      <th>FoodCourt</th>\n",
       "      <th>ShoppingMall</th>\n",
       "      <th>Spa</th>\n",
       "      <th>VRDeck</th>\n",
       "    </tr>\n",
       "  </thead>\n",
       "  <tbody>\n",
       "    <tr>\n",
       "      <th>0</th>\n",
       "      <td>True</td>\n",
       "      <td>27.0</td>\n",
       "      <td>False</td>\n",
       "      <td>0.0</td>\n",
       "      <td>0.0</td>\n",
       "      <td>0.0</td>\n",
       "      <td>0.0</td>\n",
       "      <td>0.0</td>\n",
       "    </tr>\n",
       "    <tr>\n",
       "      <th>1</th>\n",
       "      <td>False</td>\n",
       "      <td>19.0</td>\n",
       "      <td>False</td>\n",
       "      <td>0.0</td>\n",
       "      <td>9.0</td>\n",
       "      <td>0.0</td>\n",
       "      <td>2823.0</td>\n",
       "      <td>0.0</td>\n",
       "    </tr>\n",
       "    <tr>\n",
       "      <th>2</th>\n",
       "      <td>True</td>\n",
       "      <td>31.0</td>\n",
       "      <td>False</td>\n",
       "      <td>0.0</td>\n",
       "      <td>0.0</td>\n",
       "      <td>0.0</td>\n",
       "      <td>0.0</td>\n",
       "      <td>0.0</td>\n",
       "    </tr>\n",
       "  </tbody>\n",
       "</table>\n",
       "</div>"
      ],
      "text/plain": [
       "   CryoSleep   Age    VIP  RoomService  FoodCourt  ShoppingMall     Spa  \\\n",
       "0       True  27.0  False          0.0        0.0           0.0     0.0   \n",
       "1      False  19.0  False          0.0        9.0           0.0  2823.0   \n",
       "2       True  31.0  False          0.0        0.0           0.0     0.0   \n",
       "\n",
       "   VRDeck  \n",
       "0     0.0  \n",
       "1     0.0  \n",
       "2     0.0  "
      ]
     },
     "execution_count": 51,
     "metadata": {},
     "output_type": "execute_result"
    }
   ],
   "source": [
    "# Visualizando a base de teste (apenas com valores numéricos)\n",
    "X_teste = teste_nr\n",
    "X_teste.head(3)"
   ]
  },
  {
   "cell_type": "code",
   "execution_count": 38,
   "id": "a88ce180",
   "metadata": {},
   "outputs": [],
   "source": [
    "# Utilizando a regressão logística na base de teste\n",
    "y_pred = clf_rl.predict(X_teste)"
   ]
  },
  {
   "cell_type": "code",
   "execution_count": 39,
   "id": "f600d8e0",
   "metadata": {},
   "outputs": [],
   "source": [
    "# Criando uma nova coluna com a previsão na base de teste\n",
    "teste['Transported'] = y_pred"
   ]
  },
  {
   "cell_type": "code",
   "execution_count": 40,
   "id": "a7f24559",
   "metadata": {},
   "outputs": [],
   "source": [
    "# Selecionando apenas a coluna de Id e Survived para fazer o envio\n",
    "resultado1 = teste[['PassengerId', 'Transported']]"
   ]
  },
  {
   "cell_type": "code",
   "execution_count": 41,
   "id": "ced64242",
   "metadata": {},
   "outputs": [],
   "source": [
    "# Exportando para um csv\n",
    "resultado1.to_csv('resultado1.csv', index=False)"
   ]
  },
  {
   "cell_type": "markdown",
   "id": "fa152c8f",
   "metadata": {},
   "source": [
    "- **Resultado**\n",
    "    - Modelo acertou 78% das avaliações\n",
    "<img src=\"pkgImages/tentativa1.png\" width=900>"
   ]
  },
  {
   "cell_type": "code",
   "execution_count": null,
   "id": "e183ce9b",
   "metadata": {},
   "outputs": [],
   "source": []
  }
 ],
 "metadata": {
  "kernelspec": {
   "display_name": "Python 3 (ipykernel)",
   "language": "python",
   "name": "python3"
  },
  "language_info": {
   "codemirror_mode": {
    "name": "ipython",
    "version": 3
   },
   "file_extension": ".py",
   "mimetype": "text/x-python",
   "name": "python",
   "nbconvert_exporter": "python",
   "pygments_lexer": "ipython3",
   "version": "3.11.5"
  }
 },
 "nbformat": 4,
 "nbformat_minor": 5
}
